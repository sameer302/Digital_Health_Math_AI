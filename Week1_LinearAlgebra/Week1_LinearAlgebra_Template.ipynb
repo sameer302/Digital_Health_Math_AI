{
 "cells": [
  {
   "cell_type": "markdown",
   "id": "bdeba70a",
   "metadata": {},
   "source": [
    "\n",
    "# Week 1 — Linear Algebra Foundations (Vectors, Matrices, Transformations)\n",
    "\n",
    "Welcome, Sam! This notebook is your working space for **Week 1** of the Math + AI in Digital Health plan.\n",
    "\n",
    "**Structure**\n",
    "1. **Theory (notes + short derivations)**\n",
    "2. **Intuition (quick visual or link to a short video/talk)**\n",
    "3. **Implementation (NumPy/Matplotlib)**\n",
    "4. **Mini-Project**\n",
    "5. **Reflection (5–6 sentences)**\n",
    "\n",
    "> Fill each section as you progress during the week. Keep the notebook tidy and commit to Git regularly.\n"
   ]
  },
  {
   "cell_type": "markdown",
   "id": "d3634bb9",
   "metadata": {},
   "source": [
    "\n",
    "## Day 1 — Vectors & Basics\n",
    "\n",
    "**Goals**\n",
    "- Understand scalars, vectors, norms\n",
    "- Dot product (algebraic + geometric meaning)\n",
    "- Linear combinations and basis vectors\n",
    "\n",
    "**Recommended resources**\n",
    "- 3Blue1Brown — Essence of Linear Algebra (#1–2)\n",
    "- Goodfellow et al., *Deep Learning* — Ch. 2.1–2.3\n",
    "- *Mathematics for Machine Learning* — Ch. 2 (relevant sections)\n"
   ]
  },
  {
   "cell_type": "markdown",
   "id": "bfdb3f28",
   "metadata": {},
   "source": [
    "### Theory — notes / derivations"
   ]
  },
  {
   "cell_type": "code",
   "execution_count": null,
   "id": "08433af5",
   "metadata": {},
   "outputs": [],
   "source": [
    "# Use this cell for small symbolic checks or numeric demos as needed.\n",
    "# (You can install sympy locally if you want symbolic math, but keep this notebook NumPy-focused.)\n",
    "\n",
    "''' \n",
    "3Blue1Brown Chapter 1\n",
    "\n",
    "# Three views of what an vector is, from pov of physics, computer science and mathematics.\n",
    "# representation of vectors in coordinate system using square brackets\n",
    "# Addition of vectors has geometrical significance\n",
    "# Multiplication of a vector by a scalar leads to scaling\n",
    "\n",
    "------------------------------------------------------------------------------------------------------------\n",
    "\n",
    "\n",
    "3Blue1Brown Chapter 2\n",
    "\n",
    "# scalars representing a vector actually scale the basis vectors and the addition of these scales basis \n",
    "vectors gives us the current vector.\n",
    "# representation of vectors depends on the choice of basis vectors.\n",
    "# Linear combination of vec(v) and vec(w) = a.vec(v) + b.vec(w)\n",
    "# The set of all vectors that we can reach by linear combination of a given set of vectors is called the \n",
    "span of those vectors.\n",
    "# Unless the two vectors are in same line or they are zero, we can get all the vectors in 2D\n",
    "# for a single vector, arrow representation is good but for multiple vectors we ca represent them as points\n",
    "# when removing a vector does not affect the span, we say that the vector is linearly dependent and if each vector\n",
    "adds a new dimension to the span, we say that they are linearly independent\n",
    "# The basis of a vector space is a set of linearly independent vectors that span that vector space.\n",
    "'''\n"
   ]
  },
  {
   "cell_type": "markdown",
   "id": "d0e14c5a",
   "metadata": {},
   "source": [
    "### Intuition — one paragraph (what ‘clicked’ for you)"
   ]
  },
  {
   "cell_type": "markdown",
   "id": "ba084122",
   "metadata": {},
   "source": [
    "### Implementation — vector operations & visualization"
   ]
  },
  {
   "cell_type": "code",
   "execution_count": null,
   "id": "6f4bfc30",
   "metadata": {},
   "outputs": [],
   "source": [
    "import numpy as np\n",
    "import matplotlib.pyplot as plt\n",
    "\n",
    "def plot_vector(v, **kwargs):\n",
    "    plt.quiver(0, 0, v[0], v[1], angles='xy', scale_units='xy', scale=1, **kwargs)\n",
    "    plt.axis('equal'); plt.grid(True)\n",
    "\n",
    "# Example vectors\n",
    "v1 = np.array([2.0, 1.0])\n",
    "v2 = np.array([1.0, 3.0])\n",
    "\n",
    "plt.figure()\n",
    "plot_vector(v1)\n",
    "plot_vector(v2)\n",
    "plt.title('v1 and v2')\n",
    "plt.show()\n",
    "\n",
    "# Dot product (algebraic vs geometric check)\n",
    "dot_alg = float(v1 @ v2)\n",
    "cos_theta = dot_alg / (np.linalg.norm(v1) * np.linalg.norm(v2))\n",
    "theta = np.arccos(np.clip(cos_theta, -1.0, 1.0))\n",
    "dot_alg, np.degrees(theta)\n"
   ]
  },
  {
   "cell_type": "markdown",
   "id": "4ee1c3ab",
   "metadata": {},
   "source": [
    "### Reflection — 3–5 bullets"
   ]
  },
  {
   "cell_type": "markdown",
   "id": "fd4c1a1d",
   "metadata": {},
   "source": [
    "\n",
    "## Day 2 — Matrix Multiplication & Linear Transformations\n",
    "\n",
    "**Goals**\n",
    "- Matrix multiplication as composition of linear maps\n",
    "- Rotation, scaling, reflection\n",
    "- Identity and inverse\n",
    "\n",
    "**Recommended resources**\n",
    "- 3Blue1Brown — Linear Transformations (#4–5)\n",
    "- Goodfellow et al., *Deep Learning* — Ch. 2.4\n"
   ]
  },
  {
   "cell_type": "markdown",
   "id": "b274ff95",
   "metadata": {},
   "source": [
    "### Theory — notes / derivations"
   ]
  },
  {
   "cell_type": "markdown",
   "id": "75f9c618",
   "metadata": {},
   "source": [
    "**Prompt:** Explain in your own words how a 2×2 matrix *moves* the plane."
   ]
  },
  {
   "cell_type": "markdown",
   "id": "ce9dcb0d",
   "metadata": {},
   "source": [
    "### Implementation — transform a set of vectors"
   ]
  },
  {
   "cell_type": "code",
   "execution_count": null,
   "id": "fa4a8302",
   "metadata": {},
   "outputs": [],
   "source": [
    "import numpy as np\n",
    "import matplotlib.pyplot as plt\n",
    "\n",
    "# Define common 2x2 transformation matrices\n",
    "def rot(theta):\n",
    "    return np.array([[np.cos(theta), -np.sin(theta)],\n",
    "                     [np.sin(theta),  np.cos(theta)]])\n",
    "\n",
    "def scale(sx, sy):\n",
    "    return np.array([[sx, 0.0],\n",
    "                     [0.0, sy]])\n",
    "\n",
    "def reflect_x():\n",
    "    return np.array([[1.0, 0.0],\n",
    "                     [0.0, -1.0]])\n",
    "\n",
    "# Basis + sample vectors\n",
    "vecs = np.array([[1,0],[0,1],[1,1],[2,-1]], dtype=float).T  # shape (2, n)\n",
    "\n",
    "# Try: rotation by 60 degrees\n",
    "T = rot(np.deg2rad(60))\n",
    "transformed = T @ vecs\n",
    "\n",
    "plt.figure()\n",
    "for i in range(vecs.shape[1]):\n",
    "    plt.quiver(0,0,vecs[0,i],vecs[1,i], angles='xy', scale_units='xy', scale=1)\n",
    "for i in range(transformed.shape[1]):\n",
    "    plt.quiver(0,0,transformed[0,i],transformed[1,i], angles='xy', scale_units='xy', scale=1)\n",
    "plt.axis('equal'); plt.grid(True); plt.title('Original (origin) and Transformed Vectors (same origin)')\n",
    "plt.show()\n"
   ]
  },
  {
   "cell_type": "markdown",
   "id": "8e1b48f2",
   "metadata": {},
   "source": [
    "### Reflection — 3–5 bullets"
   ]
  },
  {
   "cell_type": "markdown",
   "id": "6a8df9b6",
   "metadata": {},
   "source": [
    "\n",
    "## Day 3 — Linear Independence, Span, and Rank\n",
    "\n",
    "**Goals**\n",
    "- Linear combinations and span\n",
    "- Rank as a measure of information\n",
    "- Why collinearity causes trouble in ML\n",
    "\n",
    "**Recommended resources**\n",
    "- *Mathematics for Machine Learning* — Ch. 2 (independence & span)\n"
   ]
  },
  {
   "cell_type": "markdown",
   "id": "671c83b7",
   "metadata": {},
   "source": [
    "### Theory — notes / derivations"
   ]
  },
  {
   "cell_type": "markdown",
   "id": "c4c8ae72",
   "metadata": {},
   "source": [
    "### Implementation — check independence with rank"
   ]
  },
  {
   "cell_type": "code",
   "execution_count": null,
   "id": "94250707",
   "metadata": {},
   "outputs": [],
   "source": [
    "import numpy as np\n",
    "\n",
    "A = np.array([[1, 2],\n",
    "              [2, 4]], dtype=float)   # Dependent columns\n",
    "rank_A = np.linalg.matrix_rank(A)\n",
    "\n",
    "B = np.array([[1, 2],\n",
    "              [3, 4]], dtype=float)   # Independent columns\n",
    "rank_B = np.linalg.matrix_rank(B)\n",
    "\n",
    "rank_A, rank_B\n"
   ]
  },
  {
   "cell_type": "markdown",
   "id": "8d5e3042",
   "metadata": {},
   "source": [
    "### Reflection — 3–5 bullets"
   ]
  },
  {
   "cell_type": "markdown",
   "id": "094c5a24",
   "metadata": {},
   "source": [
    "\n",
    "## Day 4 — Linear Regression in Matrix Form\n",
    "\n",
    "**Goals**\n",
    "- Normal equation: \\(\\beta = (X^\\top X)^{-1} X^\\top y\\)\n",
    "- Geometric view: projection onto column space of X\n",
    "\n",
    "**Recommended resources**\n",
    "- StatQuest — Linear Regression in Matrix Form\n"
   ]
  },
  {
   "cell_type": "markdown",
   "id": "b6638f14",
   "metadata": {},
   "source": [
    "### Theory — notes / derivations (write the projection intuition)"
   ]
  },
  {
   "cell_type": "markdown",
   "id": "a51d24cc",
   "metadata": {},
   "source": [
    "### Implementation — derive & code normal equation"
   ]
  },
  {
   "cell_type": "code",
   "execution_count": null,
   "id": "c635a932",
   "metadata": {},
   "outputs": [],
   "source": [
    "import numpy as np\n",
    "\n",
    "# Synthetic data\n",
    "np.random.seed(42)\n",
    "n = 100\n",
    "x = np.linspace(0, 5, n)\n",
    "y_true = 2.5 * x + 1.0\n",
    "y = y_true + np.random.normal(0, 0.7, size=n)\n",
    "\n",
    "# Design matrix with bias\n",
    "X = np.c_[np.ones_like(x), x]\n",
    "beta = np.linalg.inv(X.T @ X) @ (X.T @ y)\n",
    "\n",
    "beta\n"
   ]
  },
  {
   "cell_type": "markdown",
   "id": "2a8e164a",
   "metadata": {},
   "source": [
    "### Reflection — 3–5 bullets"
   ]
  },
  {
   "cell_type": "markdown",
   "id": "86ac8c32",
   "metadata": {},
   "source": [
    "\n",
    "## Day 5 — Mini-Project: 2D Linear Transformation Visualizer\n",
    "\n",
    "**Task**\n",
    "1. Generate a grid of 2D points.\n",
    "2. Ask for a 2×2 matrix (T) as input.\n",
    "3. Apply T to all points and plot before/after.\n",
    "4. Try rotation, scaling, shear, reflection.\n"
   ]
  },
  {
   "cell_type": "code",
   "execution_count": null,
   "id": "5d171cb5",
   "metadata": {},
   "outputs": [],
   "source": [
    "import numpy as np\n",
    "import matplotlib.pyplot as plt\n",
    "\n",
    "# Create grid\n",
    "xs = np.linspace(-3, 3, 13)\n",
    "ys = np.linspace(-3, 3, 13)\n",
    "grid = np.array([(x, y) for x in xs for y in ys]).T  # shape (2, N)\n",
    "\n",
    "# Example: shear matrix\n",
    "T = np.array([[1.0, 0.8],\n",
    "              [0.0, 1.0]])\n",
    "\n",
    "transformed = T @ grid\n",
    "\n",
    "plt.figure(figsize=(6,6))\n",
    "plt.scatter(grid[0], grid[1], s=15, label='Original')\n",
    "plt.scatter(transformed[0], transformed[1], s=15, marker='x', label='Transformed')\n",
    "plt.axhline(0, linewidth=0.5); plt.axvline(0, linewidth=0.5)\n",
    "plt.legend(); plt.grid(True); plt.axis('equal')\n",
    "plt.title('Grid before/after linear transformation')\n",
    "plt.show()\n"
   ]
  },
  {
   "cell_type": "markdown",
   "id": "78a2e66c",
   "metadata": {},
   "source": [
    "### Reflection — 5–6 sentences (what you learned, what clicked, one confusion)"
   ]
  },
  {
   "cell_type": "markdown",
   "id": "87bfe944",
   "metadata": {},
   "source": [
    "\n",
    "---\n",
    "\n",
    "## Week 1 — Wrap-up\n",
    "\n",
    "- **Key ideas learned:**  \n",
    "- **Code I wrote / results I saw:**  \n",
    "- **Connections to ML / healthcare:**  \n",
    "- **Questions / confusions for my tutor:**  \n",
    "\n",
    "> Save and share this notebook (and any figures) with me in your Saturday update.\n"
   ]
  }
 ],
 "metadata": {
  "language_info": {
   "name": "python"
  }
 },
 "nbformat": 4,
 "nbformat_minor": 5
}
